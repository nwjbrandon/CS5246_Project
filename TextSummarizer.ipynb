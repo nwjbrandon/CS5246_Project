{
 "cells": [
  {
   "cell_type": "code",
   "execution_count": 1,
   "metadata": {},
   "outputs": [],
   "source": [
    "%load_ext autoreload\n",
    "%autoreload 2"
   ]
  },
  {
   "cell_type": "code",
   "execution_count": 2,
   "metadata": {},
   "outputs": [
    {
     "name": "stderr",
     "output_type": "stream",
     "text": [
      "[nltk_data] Downloading package punkt_tab to\n",
      "[nltk_data]     /home/nwjbrandon/nltk_data...\n",
      "[nltk_data]   Package punkt_tab is already up-to-date!\n",
      "Device set to use cuda:0\n"
     ]
    }
   ],
   "source": [
    "from datasets import load_dataset\n",
    "from text_summarizer import TextSummarizer, evaluate_text_summarizer\n",
    "\n",
    "\n",
    "text_summarizer = TextSummarizer()"
   ]
  },
  {
   "cell_type": "code",
   "execution_count": 3,
   "metadata": {},
   "outputs": [
    {
     "data": {
      "text/plain": [
       "'SINGAPORE – US President Donald Trump’s recent tariffs might lead to a global trade war if other countries retaliate, Prime Minister Lawrence Wong said on April 5 as he warned Singaporeans to brace themselves for more shocks ahead.\\n\"Today, Singapore stands on a strong foundation, but all of you know that we are entering a world that is going to be more dangerous and unpredictable,\" he added.\\nOn April 2, Mr Trump announced a decision to impose a 10 per cent tariff on most goods imported into the US from Singapore and key partners, with higher duties for many other countries.\\nFor instance, goods from China were hit with a 34 per cent tariff. Beijing retaliated on April 4 with a slew of measures, including a 34 per cent tariff on US goods.\\n\"China has already retaliated with its own tariffs, and other countries will soon follow, I am sure. We may well end up with a full-blown global trade war,\" said PM Wong.\\n\"So, we must brace ourselves for more shocks to come,\" he added, speaking at the launch of the Marsiling-Yew Tee Masterplan in Yew Tee Square. \"In a time like this, it is more important than ever to cherish and to protect what we have in Singapore.\"\\nThis includes a \"society built on mutual care and respect, regardless of race, language or religion\", a meritocratic system that allows Singaporeans to chart their own paths, and a spirit of solidarity and unity that keeps the country moving forward, he noted.\\n\"So while there are dark clouds ahead, we can look forward still with confidence in ourselves, because here in Singapore, we have always faced challenges with grit and determination, like we did when we overcame the Covid-19 pandemic,\" he said.\\nHis comments came just a day after he warned Singaporeans to be clear-eyed about the dangers ahead, as global institutions get weaker and international norms are eroded.\\nIn a five-minute video uploaded to his social media on April 4, he described the US announcement as a \"seismic change in the global order\", pointing out that the era of rules-based globalisation and free trade was over.\\nOn April 3, Deputy Prime Minister Gan Kim Yong also spoke on the impact of the US move to subject imports to wide-ranging tariffs. He said Singapore is reassessing its 2025 growth forecast, and is prepared to provide support for households and businesses if the situation deteriorates.\\nAt a separate community event on April 5, Foreign Minister Vivian Balakrishnan said the US tariffs are a \"profound setback\" to the way the world has operated for the last 80 years, when there were generally progressive economic integration and growth of global supply chains.\\nNow that this is changing, he warned that there would be a \"major economic impact\".\\n\"I expect to see high inflation. I expect to see slower growth rates,\" he said, adding that he also expected to see a lot of pressure on how countries reach agreements with each other.\\nHe also said he was worried that these global changes would affect the ability of countries to work collectively to tackle global issues like pandemics, climate change and the emergence of artificial intelligence.\\nThat said, he added that Singapore is in a fortunate state with its fiscal reserves; it has also invested in its defence consistently; and the country has a reputation of being safe, stable and reliable.\\n\"We’ve got long-term challenges, but Singapore has agency, Singapore has options,\" he said, adding that the Republic is working with Asean and other countries on trade.\\n\"The US pulling itself out of this system is a major setback, but the US constitutes 14 per cent of global trade, there’s still another 86 per cent of global trade,\" he said.\\n\"My hope is that the rest of us will double down on integration, on win-win solutions, on signing agreements that we will abide with fully, both by spirit and the letter of the law.\"'"
      ]
     },
     "execution_count": 3,
     "metadata": {},
     "output_type": "execute_result"
    }
   ],
   "source": [
    "with open(\"sample_news.txt\") as f:\n",
    "    text = f.read()\n",
    "\n",
    "text"
   ]
  },
  {
   "cell_type": "code",
   "execution_count": 4,
   "metadata": {},
   "outputs": [
    {
     "name": "stdout",
     "output_type": "stream",
     "text": [
      "BART\n",
      "US President Donald Trump announced a decision to impose a 10 per cent tariff on most goods imported into the US from Singapore and key partners. Beijing retaliated on April 4 with a slew of measures, including a 34 per cent tariffs on US goods.\n",
      "Luhn\n",
      "SINGAPORE – US President Donald Trump’s recent tariffs might lead to a global trade war if other countries retaliate, Prime Minister Lawrence Wong said on April 5 as he warned Singaporeans to brace themselves for more shocks ahead. \"So while there are dark clouds ahead, we can look forward still with confidence in ourselves, because here in Singapore, we have always faced challenges with grit and determination, like we did when we overcame the Covid-19 pandemic,\" he said. At a separate community event on April 5, Foreign Minister Vivian Balakrishnan said the US tariffs are a \"profound setback\" to the way the world has operated for the last 80 years, when there were generally progressive economic integration and growth of global supply chains. That said, he added that Singapore is in a fortunate state with its fiscal reserves; it has also invested in its defence consistently; and the country has a reputation of being safe, stable and reliable. \"The US pulling itself out of this system is a major setback, but the US constitutes 14 per cent of global trade, there’s still another 86 per cent of global trade,\" he said.\n",
      "LSA\n",
      "SINGAPORE – US President Donald Trump’s recent tariffs might lead to a global trade war if other countries retaliate, Prime Minister Lawrence Wong said on April 5 as he warned Singaporeans to brace themselves for more shocks ahead. \"China has already retaliated with its own tariffs, and other countries will soon follow, I am sure. His comments came just a day after he warned Singaporeans to be clear-eyed about the dangers ahead, as global institutions get weaker and international norms are eroded. He also said he was worried that these global changes would affect the ability of countries to work collectively to tackle global issues like pandemics, climate change and the emergence of artificial intelligence. That said, he added that Singapore is in a fortunate state with its fiscal reserves; it has also invested in its defence consistently; and the country has a reputation of being safe, stable and reliable.\n",
      "LexRank\n",
      "SINGAPORE – US President Donald Trump’s recent tariffs might lead to a global trade war if other countries retaliate, Prime Minister Lawrence Wong said on April 5 as he warned Singaporeans to brace themselves for more shocks ahead. \"China has already retaliated with its own tariffs, and other countries will soon follow, I am sure. That said, he added that Singapore is in a fortunate state with its fiscal reserves; it has also invested in its defence consistently; and the country has a reputation of being safe, stable and reliable. \"We’ve got long-term challenges, but Singapore has agency, Singapore has options,\" he said, adding that the Republic is working with Asean and other countries on trade. \"The US pulling itself out of this system is a major setback, but the US constitutes 14 per cent of global trade, there’s still another 86 per cent of global trade,\" he said.\n",
      "TextRank\n",
      "This includes a \"society built on mutual care and respect, regardless of race, language or religion\", a meritocratic system that allows Singaporeans to chart their own paths, and a spirit of solidarity and unity that keeps the country moving forward, he noted. In a five-minute video uploaded to his social media on April 4, he described the US announcement as a \"seismic change in the global order\", pointing out that the era of rules-based globalisation and free trade was over. At a separate community event on April 5, Foreign Minister Vivian Balakrishnan said the US tariffs are a \"profound setback\" to the way the world has operated for the last 80 years, when there were generally progressive economic integration and growth of global supply chains. That said, he added that Singapore is in a fortunate state with its fiscal reserves; it has also invested in its defence consistently; and the country has a reputation of being safe, stable and reliable. \"My hope is that the rest of us will double down on integration, on win-win solutions, on signing agreements that we will abide with fully, both by spirit and the letter of the law.\"\n"
     ]
    }
   ],
   "source": [
    "\n",
    "for algorithm in text_summarizer.algorithms:\n",
    "    print(algorithm)\n",
    "    generated_summary = text_summarizer.summarize_text(text, algorithm)\n",
    "    print(generated_summary)"
   ]
  },
  {
   "cell_type": "code",
   "execution_count": 5,
   "metadata": {},
   "outputs": [
    {
     "name": "stderr",
     "output_type": "stream",
     "text": [
      "  0%|          | 9/11334 [00:03<1:32:35,  2.04it/s]You seem to be using the pipelines sequentially on GPU. In order to maximize efficiency please use a dataset\n",
      " 98%|█████████▊| 11155/11334 [1:36:59<01:33,  1.92it/s]\n"
     ]
    },
    {
     "ename": "ValueError",
     "evalue": "Input length of decoder_input_ids is 1, but `max_length` is set to 0. This can lead to unexpected behavior. You should consider increasing `max_length` or, better yet, setting `max_new_tokens`.",
     "output_type": "error",
     "traceback": [
      "\u001b[31m---------------------------------------------------------------------------\u001b[39m",
      "\u001b[31mValueError\u001b[39m                                Traceback (most recent call last)",
      "\u001b[36mCell\u001b[39m\u001b[36m \u001b[39m\u001b[32mIn[5]\u001b[39m\u001b[32m, line 2\u001b[39m\n\u001b[32m      1\u001b[39m dataset = load_dataset(\u001b[33m\"\u001b[39m\u001b[33mEdinburghNLP/xsum\u001b[39m\u001b[33m\"\u001b[39m, split=\u001b[33m\"\u001b[39m\u001b[33mtest\u001b[39m\u001b[33m\"\u001b[39m)\n\u001b[32m----> \u001b[39m\u001b[32m2\u001b[39m metrics_df = \u001b[43mevaluate_text_summarizer\u001b[49m\u001b[43m(\u001b[49m\u001b[43mtext_summarizer\u001b[49m\u001b[43m,\u001b[49m\u001b[43m \u001b[49m\u001b[43mdataset\u001b[49m\u001b[43m,\u001b[49m\u001b[43m \u001b[49m\u001b[43mtext_key\u001b[49m\u001b[43m=\u001b[49m\u001b[33;43m\"\u001b[39;49m\u001b[33;43mdocument\u001b[39;49m\u001b[33;43m\"\u001b[39;49m\u001b[43m,\u001b[49m\u001b[43m \u001b[49m\u001b[43msummary_key\u001b[49m\u001b[43m=\u001b[49m\u001b[33;43m\"\u001b[39;49m\u001b[33;43msummary\u001b[39;49m\u001b[33;43m\"\u001b[39;49m\u001b[43m)\u001b[49m\n\u001b[32m      3\u001b[39m metrics_df.head(\u001b[38;5;28mlen\u001b[39m(metrics_df))\n",
      "\u001b[36mFile \u001b[39m\u001b[32m~/CS5246_Project/text_summarizer.py:95\u001b[39m, in \u001b[36mevaluate_text_summarizer\u001b[39m\u001b[34m(text_summarizer, dataset, text_key, summary_key)\u001b[39m\n\u001b[32m     93\u001b[39m text = data[text_key]\n\u001b[32m     94\u001b[39m reference_summary = data[summary_key]\n\u001b[32m---> \u001b[39m\u001b[32m95\u001b[39m generated_summary = \u001b[43mtext_summarizer\u001b[49m\u001b[43m.\u001b[49m\u001b[43msummarize_text\u001b[49m\u001b[43m(\u001b[49m\u001b[43mtext\u001b[49m\u001b[43m,\u001b[49m\u001b[43m \u001b[49m\u001b[43malgorithm\u001b[49m\u001b[43m)\u001b[49m\n\u001b[32m     96\u001b[39m rouge_scores = rouge_score_metric(reference_summary, generated_summary)\n\u001b[32m     98\u001b[39m \u001b[38;5;28;01mfor\u001b[39;00m metric, score \u001b[38;5;129;01min\u001b[39;00m rouge_scores.items():\n",
      "\u001b[36mFile \u001b[39m\u001b[32m~/CS5246_Project/text_summarizer.py:39\u001b[39m, in \u001b[36mTextSummarizer.summarize_text\u001b[39m\u001b[34m(self, text, method)\u001b[39m\n\u001b[32m     37\u001b[39m \u001b[38;5;28;01mdef\u001b[39;00m\u001b[38;5;250m \u001b[39m\u001b[34msummarize_text\u001b[39m(\u001b[38;5;28mself\u001b[39m, text, method):\n\u001b[32m     38\u001b[39m     summarizer = \u001b[38;5;28mself\u001b[39m.summarizers[method]\n\u001b[32m---> \u001b[39m\u001b[32m39\u001b[39m     summary = \u001b[43msummarizer\u001b[49m\u001b[43m(\u001b[49m\u001b[43mtext\u001b[49m\u001b[43m)\u001b[49m\n\u001b[32m     40\u001b[39m     \u001b[38;5;28;01mreturn\u001b[39;00m summary\n",
      "\u001b[36mFile \u001b[39m\u001b[32m~/CS5246_Project/text_summarizer.py:68\u001b[39m, in \u001b[36mTextSummarizer.facebook_bart_summarizer\u001b[39m\u001b[34m(self, text, min_length, max_length, max_input_length)\u001b[39m\n\u001b[32m     66\u001b[39m max_length = input_length \u001b[38;5;28;01mif\u001b[39;00m input_length < max_length \u001b[38;5;28;01melse\u001b[39;00m max_length        \n\u001b[32m     67\u001b[39m min_length = \u001b[38;5;28mmin\u001b[39m(min_length, max_length)\n\u001b[32m---> \u001b[39m\u001b[32m68\u001b[39m \u001b[38;5;28;01mreturn\u001b[39;00m \u001b[38;5;28;43mself\u001b[39;49m\u001b[43m.\u001b[49m\u001b[43msummarizer_bart\u001b[49m\u001b[43m(\u001b[49m\u001b[43mtext\u001b[49m\u001b[43m[\u001b[49m\u001b[43m:\u001b[49m\u001b[43mmax_input_length\u001b[49m\u001b[43m]\u001b[49m\u001b[43m,\u001b[49m\u001b[43m \u001b[49m\u001b[43mmin_length\u001b[49m\u001b[43m=\u001b[49m\u001b[43mmin_length\u001b[49m\u001b[43m,\u001b[49m\u001b[43m \u001b[49m\u001b[43mmax_length\u001b[49m\u001b[43m=\u001b[49m\u001b[43mmax_length\u001b[49m\u001b[43m,\u001b[49m\u001b[43m \u001b[49m\u001b[43mdo_sample\u001b[49m\u001b[43m=\u001b[49m\u001b[38;5;28;43;01mFalse\u001b[39;49;00m\u001b[43m)\u001b[49m[\u001b[32m0\u001b[39m][\u001b[33m\"\u001b[39m\u001b[33msummary_text\u001b[39m\u001b[33m\"\u001b[39m]\n",
      "\u001b[36mFile \u001b[39m\u001b[32m~/anaconda3/envs/CS5246/lib/python3.11/site-packages/transformers/pipelines/text2text_generation.py:280\u001b[39m, in \u001b[36mSummarizationPipeline.__call__\u001b[39m\u001b[34m(self, *args, **kwargs)\u001b[39m\n\u001b[32m    256\u001b[39m \u001b[38;5;28;01mdef\u001b[39;00m\u001b[38;5;250m \u001b[39m\u001b[34m__call__\u001b[39m(\u001b[38;5;28mself\u001b[39m, *args, **kwargs):\n\u001b[32m    257\u001b[39m \u001b[38;5;250m    \u001b[39m\u001b[33mr\u001b[39m\u001b[33;03m\"\"\"\u001b[39;00m\n\u001b[32m    258\u001b[39m \u001b[33;03m    Summarize the text(s) given as inputs.\u001b[39;00m\n\u001b[32m    259\u001b[39m \n\u001b[32m   (...)\u001b[39m\u001b[32m    278\u001b[39m \u001b[33;03m          ids of the summary.\u001b[39;00m\n\u001b[32m    279\u001b[39m \u001b[33;03m    \"\"\"\u001b[39;00m\n\u001b[32m--> \u001b[39m\u001b[32m280\u001b[39m     \u001b[38;5;28;01mreturn\u001b[39;00m \u001b[38;5;28;43msuper\u001b[39;49m\u001b[43m(\u001b[49m\u001b[43m)\u001b[49m\u001b[43m.\u001b[49m\u001b[34;43m__call__\u001b[39;49m\u001b[43m(\u001b[49m\u001b[43m*\u001b[49m\u001b[43margs\u001b[49m\u001b[43m,\u001b[49m\u001b[43m \u001b[49m\u001b[43m*\u001b[49m\u001b[43m*\u001b[49m\u001b[43mkwargs\u001b[49m\u001b[43m)\u001b[49m\n",
      "\u001b[36mFile \u001b[39m\u001b[32m~/anaconda3/envs/CS5246/lib/python3.11/site-packages/transformers/pipelines/text2text_generation.py:173\u001b[39m, in \u001b[36mText2TextGenerationPipeline.__call__\u001b[39m\u001b[34m(self, *args, **kwargs)\u001b[39m\n\u001b[32m    144\u001b[39m \u001b[38;5;28;01mdef\u001b[39;00m\u001b[38;5;250m \u001b[39m\u001b[34m__call__\u001b[39m(\u001b[38;5;28mself\u001b[39m, *args, **kwargs):\n\u001b[32m    145\u001b[39m \u001b[38;5;250m    \u001b[39m\u001b[33mr\u001b[39m\u001b[33;03m\"\"\"\u001b[39;00m\n\u001b[32m    146\u001b[39m \u001b[33;03m    Generate the output text(s) using text(s) given as inputs.\u001b[39;00m\n\u001b[32m    147\u001b[39m \n\u001b[32m   (...)\u001b[39m\u001b[32m    170\u001b[39m \u001b[33;03m          ids of the generated text.\u001b[39;00m\n\u001b[32m    171\u001b[39m \u001b[33;03m    \"\"\"\u001b[39;00m\n\u001b[32m--> \u001b[39m\u001b[32m173\u001b[39m     result = \u001b[38;5;28;43msuper\u001b[39;49m\u001b[43m(\u001b[49m\u001b[43m)\u001b[49m\u001b[43m.\u001b[49m\u001b[34;43m__call__\u001b[39;49m\u001b[43m(\u001b[49m\u001b[43m*\u001b[49m\u001b[43margs\u001b[49m\u001b[43m,\u001b[49m\u001b[43m \u001b[49m\u001b[43m*\u001b[49m\u001b[43m*\u001b[49m\u001b[43mkwargs\u001b[49m\u001b[43m)\u001b[49m\n\u001b[32m    174\u001b[39m     \u001b[38;5;28;01mif\u001b[39;00m (\n\u001b[32m    175\u001b[39m         \u001b[38;5;28misinstance\u001b[39m(args[\u001b[32m0\u001b[39m], \u001b[38;5;28mlist\u001b[39m)\n\u001b[32m    176\u001b[39m         \u001b[38;5;129;01mand\u001b[39;00m \u001b[38;5;28mall\u001b[39m(\u001b[38;5;28misinstance\u001b[39m(el, \u001b[38;5;28mstr\u001b[39m) \u001b[38;5;28;01mfor\u001b[39;00m el \u001b[38;5;129;01min\u001b[39;00m args[\u001b[32m0\u001b[39m])\n\u001b[32m    177\u001b[39m         \u001b[38;5;129;01mand\u001b[39;00m \u001b[38;5;28mall\u001b[39m(\u001b[38;5;28mlen\u001b[39m(res) == \u001b[32m1\u001b[39m \u001b[38;5;28;01mfor\u001b[39;00m res \u001b[38;5;129;01min\u001b[39;00m result)\n\u001b[32m    178\u001b[39m     ):\n\u001b[32m    179\u001b[39m         \u001b[38;5;28;01mreturn\u001b[39;00m [res[\u001b[32m0\u001b[39m] \u001b[38;5;28;01mfor\u001b[39;00m res \u001b[38;5;129;01min\u001b[39;00m result]\n",
      "\u001b[36mFile \u001b[39m\u001b[32m~/anaconda3/envs/CS5246/lib/python3.11/site-packages/transformers/pipelines/base.py:1371\u001b[39m, in \u001b[36mPipeline.__call__\u001b[39m\u001b[34m(self, inputs, num_workers, batch_size, *args, **kwargs)\u001b[39m\n\u001b[32m   1363\u001b[39m     \u001b[38;5;28;01mreturn\u001b[39;00m \u001b[38;5;28mnext\u001b[39m(\n\u001b[32m   1364\u001b[39m         \u001b[38;5;28miter\u001b[39m(\n\u001b[32m   1365\u001b[39m             \u001b[38;5;28mself\u001b[39m.get_iterator(\n\u001b[32m   (...)\u001b[39m\u001b[32m   1368\u001b[39m         )\n\u001b[32m   1369\u001b[39m     )\n\u001b[32m   1370\u001b[39m \u001b[38;5;28;01melse\u001b[39;00m:\n\u001b[32m-> \u001b[39m\u001b[32m1371\u001b[39m     \u001b[38;5;28;01mreturn\u001b[39;00m \u001b[38;5;28;43mself\u001b[39;49m\u001b[43m.\u001b[49m\u001b[43mrun_single\u001b[49m\u001b[43m(\u001b[49m\u001b[43minputs\u001b[49m\u001b[43m,\u001b[49m\u001b[43m \u001b[49m\u001b[43mpreprocess_params\u001b[49m\u001b[43m,\u001b[49m\u001b[43m \u001b[49m\u001b[43mforward_params\u001b[49m\u001b[43m,\u001b[49m\u001b[43m \u001b[49m\u001b[43mpostprocess_params\u001b[49m\u001b[43m)\u001b[49m\n",
      "\u001b[36mFile \u001b[39m\u001b[32m~/anaconda3/envs/CS5246/lib/python3.11/site-packages/transformers/pipelines/base.py:1378\u001b[39m, in \u001b[36mPipeline.run_single\u001b[39m\u001b[34m(self, inputs, preprocess_params, forward_params, postprocess_params)\u001b[39m\n\u001b[32m   1376\u001b[39m \u001b[38;5;28;01mdef\u001b[39;00m\u001b[38;5;250m \u001b[39m\u001b[34mrun_single\u001b[39m(\u001b[38;5;28mself\u001b[39m, inputs, preprocess_params, forward_params, postprocess_params):\n\u001b[32m   1377\u001b[39m     model_inputs = \u001b[38;5;28mself\u001b[39m.preprocess(inputs, **preprocess_params)\n\u001b[32m-> \u001b[39m\u001b[32m1378\u001b[39m     model_outputs = \u001b[38;5;28;43mself\u001b[39;49m\u001b[43m.\u001b[49m\u001b[43mforward\u001b[49m\u001b[43m(\u001b[49m\u001b[43mmodel_inputs\u001b[49m\u001b[43m,\u001b[49m\u001b[43m \u001b[49m\u001b[43m*\u001b[49m\u001b[43m*\u001b[49m\u001b[43mforward_params\u001b[49m\u001b[43m)\u001b[49m\n\u001b[32m   1379\u001b[39m     outputs = \u001b[38;5;28mself\u001b[39m.postprocess(model_outputs, **postprocess_params)\n\u001b[32m   1380\u001b[39m     \u001b[38;5;28;01mreturn\u001b[39;00m outputs\n",
      "\u001b[36mFile \u001b[39m\u001b[32m~/anaconda3/envs/CS5246/lib/python3.11/site-packages/transformers/pipelines/base.py:1278\u001b[39m, in \u001b[36mPipeline.forward\u001b[39m\u001b[34m(self, model_inputs, **forward_params)\u001b[39m\n\u001b[32m   1276\u001b[39m     \u001b[38;5;28;01mwith\u001b[39;00m inference_context():\n\u001b[32m   1277\u001b[39m         model_inputs = \u001b[38;5;28mself\u001b[39m._ensure_tensor_on_device(model_inputs, device=\u001b[38;5;28mself\u001b[39m.device)\n\u001b[32m-> \u001b[39m\u001b[32m1278\u001b[39m         model_outputs = \u001b[38;5;28;43mself\u001b[39;49m\u001b[43m.\u001b[49m\u001b[43m_forward\u001b[49m\u001b[43m(\u001b[49m\u001b[43mmodel_inputs\u001b[49m\u001b[43m,\u001b[49m\u001b[43m \u001b[49m\u001b[43m*\u001b[49m\u001b[43m*\u001b[49m\u001b[43mforward_params\u001b[49m\u001b[43m)\u001b[49m\n\u001b[32m   1279\u001b[39m         model_outputs = \u001b[38;5;28mself\u001b[39m._ensure_tensor_on_device(model_outputs, device=torch.device(\u001b[33m\"\u001b[39m\u001b[33mcpu\u001b[39m\u001b[33m\"\u001b[39m))\n\u001b[32m   1280\u001b[39m \u001b[38;5;28;01melse\u001b[39;00m:\n",
      "\u001b[36mFile \u001b[39m\u001b[32m~/anaconda3/envs/CS5246/lib/python3.11/site-packages/transformers/pipelines/text2text_generation.py:202\u001b[39m, in \u001b[36mText2TextGenerationPipeline._forward\u001b[39m\u001b[34m(self, model_inputs, **generate_kwargs)\u001b[39m\n\u001b[32m    199\u001b[39m \u001b[38;5;28;01mif\u001b[39;00m \u001b[33m\"\u001b[39m\u001b[33mgeneration_config\u001b[39m\u001b[33m\"\u001b[39m \u001b[38;5;129;01mnot\u001b[39;00m \u001b[38;5;129;01min\u001b[39;00m generate_kwargs:\n\u001b[32m    200\u001b[39m     generate_kwargs[\u001b[33m\"\u001b[39m\u001b[33mgeneration_config\u001b[39m\u001b[33m\"\u001b[39m] = \u001b[38;5;28mself\u001b[39m.generation_config\n\u001b[32m--> \u001b[39m\u001b[32m202\u001b[39m output_ids = \u001b[38;5;28;43mself\u001b[39;49m\u001b[43m.\u001b[49m\u001b[43mmodel\u001b[49m\u001b[43m.\u001b[49m\u001b[43mgenerate\u001b[49m\u001b[43m(\u001b[49m\u001b[43m*\u001b[49m\u001b[43m*\u001b[49m\u001b[43mmodel_inputs\u001b[49m\u001b[43m,\u001b[49m\u001b[43m \u001b[49m\u001b[43m*\u001b[49m\u001b[43m*\u001b[49m\u001b[43mgenerate_kwargs\u001b[49m\u001b[43m)\u001b[49m\n\u001b[32m    203\u001b[39m out_b = output_ids.shape[\u001b[32m0\u001b[39m]\n\u001b[32m    204\u001b[39m \u001b[38;5;28;01mif\u001b[39;00m \u001b[38;5;28mself\u001b[39m.framework == \u001b[33m\"\u001b[39m\u001b[33mpt\u001b[39m\u001b[33m\"\u001b[39m:\n",
      "\u001b[36mFile \u001b[39m\u001b[32m~/anaconda3/envs/CS5246/lib/python3.11/site-packages/torch/utils/_contextlib.py:116\u001b[39m, in \u001b[36mcontext_decorator.<locals>.decorate_context\u001b[39m\u001b[34m(*args, **kwargs)\u001b[39m\n\u001b[32m    113\u001b[39m \u001b[38;5;129m@functools\u001b[39m.wraps(func)\n\u001b[32m    114\u001b[39m \u001b[38;5;28;01mdef\u001b[39;00m\u001b[38;5;250m \u001b[39m\u001b[34mdecorate_context\u001b[39m(*args, **kwargs):\n\u001b[32m    115\u001b[39m     \u001b[38;5;28;01mwith\u001b[39;00m ctx_factory():\n\u001b[32m--> \u001b[39m\u001b[32m116\u001b[39m         \u001b[38;5;28;01mreturn\u001b[39;00m \u001b[43mfunc\u001b[49m\u001b[43m(\u001b[49m\u001b[43m*\u001b[49m\u001b[43margs\u001b[49m\u001b[43m,\u001b[49m\u001b[43m \u001b[49m\u001b[43m*\u001b[49m\u001b[43m*\u001b[49m\u001b[43mkwargs\u001b[49m\u001b[43m)\u001b[49m\n",
      "\u001b[36mFile \u001b[39m\u001b[32m~/anaconda3/envs/CS5246/lib/python3.11/site-packages/transformers/generation/utils.py:2182\u001b[39m, in \u001b[36mGenerationMixin.generate\u001b[39m\u001b[34m(self, inputs, generation_config, logits_processor, stopping_criteria, prefix_allowed_tokens_fn, synced_gpus, assistant_model, streamer, negative_prompt_ids, negative_prompt_attention_mask, use_model_defaults, **kwargs)\u001b[39m\n\u001b[32m   2179\u001b[39m \u001b[38;5;28;01mif\u001b[39;00m \u001b[38;5;28mself\u001b[39m._supports_logits_to_keep() \u001b[38;5;129;01mand\u001b[39;00m \u001b[33m\"\u001b[39m\u001b[33mlogits_to_keep\u001b[39m\u001b[33m\"\u001b[39m \u001b[38;5;129;01mnot\u001b[39;00m \u001b[38;5;129;01min\u001b[39;00m model_kwargs:\n\u001b[32m   2180\u001b[39m     model_kwargs[\u001b[33m\"\u001b[39m\u001b[33mlogits_to_keep\u001b[39m\u001b[33m\"\u001b[39m] = \u001b[32m1\u001b[39m\n\u001b[32m-> \u001b[39m\u001b[32m2182\u001b[39m \u001b[38;5;28;43mself\u001b[39;49m\u001b[43m.\u001b[49m\u001b[43m_validate_generated_length\u001b[49m\u001b[43m(\u001b[49m\u001b[43mgeneration_config\u001b[49m\u001b[43m,\u001b[49m\u001b[43m \u001b[49m\u001b[43minput_ids_length\u001b[49m\u001b[43m,\u001b[49m\u001b[43m \u001b[49m\u001b[43mhas_default_max_length\u001b[49m\u001b[43m)\u001b[49m\n\u001b[32m   2184\u001b[39m \u001b[38;5;66;03m# 7. Prepare the cache.\u001b[39;00m\n\u001b[32m   2185\u001b[39m \u001b[38;5;66;03m# - `model_kwargs` may be updated in place with a cache as defined by the parameters in `generation_config`.\u001b[39;00m\n\u001b[32m   2186\u001b[39m \u001b[38;5;66;03m# - different models have a different cache name expected by the model (default = \"past_key_values\")\u001b[39;00m\n\u001b[32m   2187\u001b[39m \u001b[38;5;66;03m# - `max_length`, prepared above, is used to determine the maximum cache length\u001b[39;00m\n\u001b[32m   2188\u001b[39m max_cache_length = generation_config.max_length - \u001b[32m1\u001b[39m\n",
      "\u001b[36mFile \u001b[39m\u001b[32m~/anaconda3/envs/CS5246/lib/python3.11/site-packages/transformers/generation/utils.py:1468\u001b[39m, in \u001b[36mGenerationMixin._validate_generated_length\u001b[39m\u001b[34m(self, generation_config, input_ids_length, has_default_max_length)\u001b[39m\n\u001b[32m   1466\u001b[39m \u001b[38;5;28;01mif\u001b[39;00m input_ids_length >= generation_config.max_length:\n\u001b[32m   1467\u001b[39m     input_ids_string = \u001b[33m\"\u001b[39m\u001b[33mdecoder_input_ids\u001b[39m\u001b[33m\"\u001b[39m \u001b[38;5;28;01mif\u001b[39;00m \u001b[38;5;28mself\u001b[39m.config.is_encoder_decoder \u001b[38;5;28;01melse\u001b[39;00m \u001b[33m\"\u001b[39m\u001b[33minput_ids\u001b[39m\u001b[33m\"\u001b[39m\n\u001b[32m-> \u001b[39m\u001b[32m1468\u001b[39m     \u001b[38;5;28;01mraise\u001b[39;00m \u001b[38;5;167;01mValueError\u001b[39;00m(\n\u001b[32m   1469\u001b[39m         \u001b[33mf\u001b[39m\u001b[33m\"\u001b[39m\u001b[33mInput length of \u001b[39m\u001b[38;5;132;01m{\u001b[39;00minput_ids_string\u001b[38;5;132;01m}\u001b[39;00m\u001b[33m is \u001b[39m\u001b[38;5;132;01m{\u001b[39;00minput_ids_length\u001b[38;5;132;01m}\u001b[39;00m\u001b[33m, but `max_length` is set to\u001b[39m\u001b[33m\"\u001b[39m\n\u001b[32m   1470\u001b[39m         \u001b[33mf\u001b[39m\u001b[33m\"\u001b[39m\u001b[33m \u001b[39m\u001b[38;5;132;01m{\u001b[39;00mgeneration_config.max_length\u001b[38;5;132;01m}\u001b[39;00m\u001b[33m. This can lead to unexpected behavior. You should consider\u001b[39m\u001b[33m\"\u001b[39m\n\u001b[32m   1471\u001b[39m         \u001b[33m\"\u001b[39m\u001b[33m increasing `max_length` or, better yet, setting `max_new_tokens`.\u001b[39m\u001b[33m\"\u001b[39m\n\u001b[32m   1472\u001b[39m     )\n\u001b[32m   1474\u001b[39m \u001b[38;5;66;03m# 2. Min length warnings due to unfeasible parameter combinations\u001b[39;00m\n\u001b[32m   1475\u001b[39m min_length_error_suffix = (\n\u001b[32m   1476\u001b[39m     \u001b[33m\"\u001b[39m\u001b[33m Generation will stop at the defined maximum length. You should decrease the minimum length and/or \u001b[39m\u001b[33m\"\u001b[39m\n\u001b[32m   1477\u001b[39m     \u001b[33m\"\u001b[39m\u001b[33mincrease the maximum length.\u001b[39m\u001b[33m\"\u001b[39m\n\u001b[32m   1478\u001b[39m )\n",
      "\u001b[31mValueError\u001b[39m: Input length of decoder_input_ids is 1, but `max_length` is set to 0. This can lead to unexpected behavior. You should consider increasing `max_length` or, better yet, setting `max_new_tokens`."
     ]
    }
   ],
   "source": [
    "dataset = load_dataset(\"EdinburghNLP/xsum\", split=\"test\")\n",
    "metrics_df = evaluate_text_summarizer(text_summarizer, dataset, text_key=\"document\", summary_key=\"summary\")\n",
    "metrics_df.head(len(metrics_df))"
   ]
  },
  {
   "cell_type": "code",
   "execution_count": null,
   "metadata": {},
   "outputs": [],
   "source": [
    "dataset = load_dataset(\"abisee/cnn_dailymail\", \"3.0.0\", split=\"test\")\n",
    "metrics_df = evaluate_text_summarizer(text_summarizer, dataset, text_key=\"article\", summary_key=\"highlights\")\n",
    "metrics_df.head(len(metrics_df))"
   ]
  }
 ],
 "metadata": {
  "kernelspec": {
   "display_name": "CS5246",
   "language": "python",
   "name": "python3"
  },
  "language_info": {
   "codemirror_mode": {
    "name": "ipython",
    "version": 3
   },
   "file_extension": ".py",
   "mimetype": "text/x-python",
   "name": "python",
   "nbconvert_exporter": "python",
   "pygments_lexer": "ipython3",
   "version": "3.11.11"
  }
 },
 "nbformat": 4,
 "nbformat_minor": 2
}
