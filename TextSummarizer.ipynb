{
 "cells": [
  {
   "cell_type": "code",
   "execution_count": null,
   "metadata": {},
   "outputs": [],
   "source": [
    "%load_ext autoreload\n",
    "%autoreload 2"
   ]
  },
  {
   "cell_type": "code",
   "execution_count": null,
   "metadata": {},
   "outputs": [],
   "source": [
    "from datasets import load_dataset\n",
    "from text_summarizer import TextSummarizer, evaluate_text_summarizer\n",
    "\n",
    "\n",
    "text_summarizer = TextSummarizer()"
   ]
  },
  {
   "cell_type": "code",
   "execution_count": null,
   "metadata": {},
   "outputs": [],
   "source": [
    "with open(\"sample_news.txt\") as f:\n",
    "    text = f.read()\n",
    "\n",
    "text"
   ]
  },
  {
   "cell_type": "code",
   "execution_count": null,
   "metadata": {},
   "outputs": [],
   "source": [
    "\n",
    "for algorithm in text_summarizer.algorithms:\n",
    "    print(algorithm)\n",
    "    generated_summary = text_summarizer.summarize_text(text, algorithm)\n",
    "    print(generated_summary)"
   ]
  },
  {
   "cell_type": "code",
   "execution_count": null,
   "metadata": {},
   "outputs": [],
   "source": [
    "dataset = load_dataset(\"abisee/cnn_dailymail\", \"3.0.0\", split=\"test\")\n",
    "metrics_df = evaluate_text_summarizer(text_summarizer, dataset, text_key=\"article\", summary_key=\"highlights\")\n",
    "metrics_df.head(len(metrics_df))"
   ]
  },
  {
   "cell_type": "code",
   "execution_count": null,
   "metadata": {},
   "outputs": [],
   "source": [
    "dataset = load_dataset(\"EdinburghNLP/xsum\", split=\"test\")\n",
    "metrics_df = evaluate_text_summarizer(text_summarizer, dataset, text_key=\"document\", summary_key=\"summary\")\n",
    "metrics_df.head(len(metrics_df))"
   ]
  }
 ],
 "metadata": {
  "kernelspec": {
   "display_name": "CS5246",
   "language": "python",
   "name": "python3"
  },
  "language_info": {
   "codemirror_mode": {
    "name": "ipython",
    "version": 3
   },
   "file_extension": ".py",
   "mimetype": "text/x-python",
   "name": "python",
   "nbconvert_exporter": "python",
   "pygments_lexer": "ipython3",
   "version": "3.11.11"
  }
 },
 "nbformat": 4,
 "nbformat_minor": 2
}
